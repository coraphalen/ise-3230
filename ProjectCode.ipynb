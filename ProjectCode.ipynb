{
 "cells": [
  {
   "cell_type": "code",
   "execution_count": 8,
   "id": "398fa46c-a888-4b86-ba4d-4abd3eec8e3a",
   "metadata": {},
   "outputs": [],
   "source": [
    "import cvxpy as cp\n",
    "import numpy as np\n",
    "\n",
    "## Set up constants\n",
    "\n",
    "# Load data files\n",
    "transport_cost = np.loadtxt(\"transportation_cost.csv\", delimiter=\",\",skiprows=1)\n",
    "transport_time = np.loadtxt(\"transportation_time.csv\", delimiter=\",\",skiprows=1)\n",
    "accomodations = np.loadtxt(\"accomodation.csv\", delimiter=\",\",skiprows=1)\n",
    "cities = np.loadtxt(\"cities.csv\", delimiter=\",\",dtype=str,skiprows=1)\n",
    "\n",
    "# Number of cities\n",
    "num_cities = len(cities)\n",
    "\n",
    "# Total budget and length of trip\n",
    "budget = 1500\n",
    "trip_length = 14"
   ]
  },
  {
   "cell_type": "code",
   "execution_count": 9,
   "id": "87068821",
   "metadata": {},
   "outputs": [],
   "source": [
    "## Set up variables\n",
    "M = 100000000   # Some arbitrarily large term\n",
    "\n",
    "# Costs per day (in USD)\n",
    "cost_weekend = [60, 20, 40, 25, 25, 20, 30, 30]  # Fri/Sat\n",
    "cost_transition = [25, 15, 25, 20, 30, 20, 30, 25]  # Sun/Thu\n",
    "cost_weekday = [25, 15, 20, 20, 20, 20, 30, 25]  # Mon/Tue/Wed\n",
    "\n",
    "# Travel costs (matrix in USD)\n",
    "travel_cost = [\n",
    "    [M, 40, 65, 20, 50, 30, 50, 60],\n",
    "    [40, M, 105, 40, 130, 70, 165, 130],\n",
    "    [65, 105, M, 100, 60, 25, 30, 40],\n",
    "    [20, 40, 100, M, 86, 20, 66, 75],\n",
    "    [50, 130, 60, 86, M, 100, 80, 20],\n",
    "    [30, 70, 25, 20, 100, M, 90, 130],\n",
    "    [50, 165, 30, 66, 80, 90, M, 40],\n",
    "    [60, 130, 40, 75, 20, 130, 40, M]\n",
    "]\n",
    "\n",
    "# Decision variables\n",
    "x = cp.Variable(num_cities, integer=True)  # Total days spent in each city\n",
    "\n",
    "y_weekday = cp.Variable(num_cities, integer=True)\n",
    "y_weekend = cp.Variable(num_cities, integer=True)\n",
    "#y_transition = cp.Variable(num_cities, integer=True)\n",
    "\n",
    "t = cp.Variable((num_cities, num_cities), boolean=True)  # Travel route binary variables -- traveling from city i to j\n",
    "\n",
    "#visited = cp.Variable(num_cities,boolean=True)  # Binary variable indicating whether city is visited\n",
    "\n",
    "u = cp.Variable(num_cities,nonneg=True) # artificial variable for eliminating subtours\n",
    "# p = cp.Variable(num_cities,boolean=True) # artificial variable for ensuring cities that are not stayed in are not included in the route decision"
   ]
  },
  {
   "cell_type": "code",
   "execution_count": 10,
   "id": "abb3c704",
   "metadata": {},
   "outputs": [],
   "source": [
    "## Create objective\n",
    "\n",
    "# Objective: Minimize total cost\n",
    "total_cost = (\n",
    "    sum(cost_weekend[i] * y_weekend[i] for i in range(num_cities)) +\n",
    "    sum(cost_weekday[i] * y_weekday[i] for i in range(num_cities)) +\n",
    "    sum(\n",
    "        travel_cost[i][j] * t[i, j] \n",
    "        for i in range(num_cities) \n",
    "        for j in range(num_cities)\n",
    "    )\n",
    ")\n",
    "\n",
    "# Constraints\n",
    "constraints = [\n",
    "    x >= 0, # Additional nonnegativity constraints\n",
    "    y_weekday >= 0,\n",
    "    y_weekend >= 0,\n",
    "    x <= 3,  # No more than 3 days in a single city\n",
    "    x >= 1, # Each city visited at least once\n",
    "    sum(x) == trip_length,  # Total days equal to trip duration\n",
    "    sum(\n",
    "        cost_weekend[i] * y_weekend[i] +\n",
    "        cost_weekday[i] * y_weekday[i] +\n",
    "        sum(travel_cost[i][j] * t[i, j] for j in range(num_cities))\n",
    "        for i in range(num_cities)\n",
    "    ) <= budget # Budget constraint\n",
    "]\n",
    "\n",
    "# Total of each type of days of the week on the trip\n",
    "constraints.append(sum(y_weekday) == 8)\n",
    "constraints.append(sum(y_weekend) == 6)\n",
    "\n",
    "# Number of days of each type in each city\n",
    "for i in range(num_cities):\n",
    "    constraints.append(y_weekday[i] <= 3)\n",
    "    constraints.append(y_weekend[i] <= 2)\n",
    "\n",
    "# Individual constraints for day breakdown\n",
    "for i in range(num_cities):\n",
    "    constraints.append(y_weekday[i] + y_weekend[i] == x[i])"
   ]
  },
  {
   "cell_type": "code",
   "execution_count": 11,
   "id": "194901f4",
   "metadata": {},
   "outputs": [],
   "source": [
    "# Each city visited only once\n",
    "for i in range(num_cities): \n",
    "    constraints.append(sum(t[i, j] for j in range(num_cities)) == 1)\n",
    "    constraints.append(sum(t[j, i] for j in range(num_cities)) == 1)\n",
    " \n",
    "# No subtours\n",
    "for i in range(1,num_cities):\n",
    "   for j in range(1,num_cities):\n",
    "       constraints.append(u[i] - u[j] + num_cities*t[i,j] <= num_cities-1)"
   ]
  },
  {
   "cell_type": "code",
   "execution_count": 12,
   "id": "535b267e",
   "metadata": {},
   "outputs": [],
   "source": [
    "# If we spend no time in a city, we can't travel to and from it\n",
    "#for i in range(num_cities): \n",
    "   # constraints.append(sum(t[i,:]) == 1000*(1-visited[i]))\n",
    "    #constraints.append(0 <= x[i] + 1000*visited[i])"
   ]
  },
  {
   "cell_type": "code",
   "execution_count": 13,
   "id": "8badbc6c",
   "metadata": {},
   "outputs": [
    {
     "data": {
      "text/plain": [
       "'\\nx = [2,9,0,7,1,2,0,1]\\n#visited = [1,0,0,1,1,1,0,1]\\n\\ntotal_cost1 = sum(\\n        travel_cost[i][j] * t[i, j] \\n        for i in range(num_cities) \\n        for j in range(num_cities)\\n    )\\n\\nconstraints1 = []\\n# Each city visited only once\\nfor i in range(num_cities): \\n    constraints1.append(sum(t[i, j] for j in range(num_cities)) == visited[i])\\n    constraints1.append(sum(t[j, i] for j in range(num_cities)) == visited[i])\\n \\n# No subtours\\nfor i in range(1,num_cities):\\n   for j in range(1,num_cities):\\n      constraints1.append(u[i] - u[j] + num_cities*t[i,j] <= num_cities-1)\\n\\n# If we spend no time in a city, we can\\'t travel to and from it\\n#for i in range(num_cities): \\n    #constraints1.append(x[i] <= 100000*visited[i])\\n\\n#problem1 = cp.Problem(cp.Minimize(total_cost1), constraints1)\\n#problem1.solve(solver=cp.GUROBI)\\n\\n# Results\\n#print(\"Optimal Cost:\", problem1.value)\\n#print(\"p:\", p.value)\\n#print(\"Whether city was visited:\", visited.value)\\n#print(\"Route:\")\\n#print(t.value)\\n'"
      ]
     },
     "execution_count": 13,
     "metadata": {},
     "output_type": "execute_result"
    }
   ],
   "source": [
    "'''\n",
    "x = [2,9,0,7,1,2,0,1]\n",
    "#visited = [1,0,0,1,1,1,0,1]\n",
    "\n",
    "total_cost1 = sum(\n",
    "        travel_cost[i][j] * t[i, j] \n",
    "        for i in range(num_cities) \n",
    "        for j in range(num_cities)\n",
    "    )\n",
    "\n",
    "constraints1 = []\n",
    "# Each city visited only once\n",
    "for i in range(num_cities): \n",
    "    constraints1.append(sum(t[i, j] for j in range(num_cities)) == visited[i])\n",
    "    constraints1.append(sum(t[j, i] for j in range(num_cities)) == visited[i])\n",
    " \n",
    "# No subtours\n",
    "for i in range(1,num_cities):\n",
    "   for j in range(1,num_cities):\n",
    "      constraints1.append(u[i] - u[j] + num_cities*t[i,j] <= num_cities-1)\n",
    "\n",
    "# If we spend no time in a city, we can't travel to and from it\n",
    "#for i in range(num_cities): \n",
    "    #constraints1.append(x[i] <= 100000*visited[i])\n",
    "\n",
    "#problem1 = cp.Problem(cp.Minimize(total_cost1), constraints1)\n",
    "#problem1.solve(solver=cp.GUROBI)\n",
    "\n",
    "# Results\n",
    "#print(\"Optimal Cost:\", problem1.value)\n",
    "#print(\"p:\", p.value)\n",
    "#print(\"Whether city was visited:\", visited.value)\n",
    "#print(\"Route:\")\n",
    "#print(t.value)\n",
    "'''"
   ]
  },
  {
   "cell_type": "code",
   "execution_count": 14,
   "id": "98547a24",
   "metadata": {},
   "outputs": [
    {
     "name": "stdout",
     "output_type": "stream",
     "text": [
      "Optimal Cost: 565.0\n",
      "Days in each city: [1, 3, 3, 1, 1, 3, 1, 1]\n",
      "Weekdays in each city: [1, 3, 3, 0, 0, 1, 0, 0]\n",
      "Weekends in each city: [0, 0, 0, 1, 1, 2, 1, 1]\n",
      "Route:\n",
      "[[0. 0. 0. 0. 1. 0. 0. 0.]\n",
      " [1. 0. 0. 0. 0. 0. 0. 0.]\n",
      " [0. 0. 0. 0. 0. 1. 0. 0.]\n",
      " [0. 1. 0. 0. 0. 0. 0. 0.]\n",
      " [0. 0. 0. 0. 0. 0. 0. 1.]\n",
      " [0. 0. 0. 1. 0. 0. 0. 0.]\n",
      " [0. 0. 1. 0. 0. 0. 0. 0.]\n",
      " [0. 0. 0. 0. 0. 0. 1. 0.]]\n"
     ]
    }
   ],
   "source": [
    "# Solver\n",
    "problem = cp.Problem(cp.Minimize(total_cost), constraints)\n",
    "problem.solve(solver=cp.GUROBI)\n",
    "\n",
    "# Results\n",
    "print(\"Optimal Cost:\", problem.value)\n",
    "print(\"Days in each city:\", [round(val) for val in x.value])\n",
    "print(\"Weekdays in each city:\", [round(val) for val in y_weekday.value])\n",
    "print(\"Weekends in each city:\", [round(val) for val in y_weekend.value])\n",
    "#print(\"Transits in each city:\", [round(val) for val in y_transition.value])\n",
    "\n",
    "print(\"Route:\")\n",
    "print(t.value)"
   ]
  },
  {
   "cell_type": "code",
   "execution_count": null,
   "id": "35b5412b",
   "metadata": {},
   "outputs": [],
   "source": [
    "#include constraints for beaches, perceived satisfaction, travel time, madrid/barcelona?"
   ]
  }
 ],
 "metadata": {
  "kernelspec": {
   "display_name": "env_opt",
   "language": "python",
   "name": "python3"
  },
  "language_info": {
   "codemirror_mode": {
    "name": "ipython",
    "version": 3
   },
   "file_extension": ".py",
   "mimetype": "text/x-python",
   "name": "python",
   "nbconvert_exporter": "python",
   "pygments_lexer": "ipython3",
   "version": "3.9.19"
  }
 },
 "nbformat": 4,
 "nbformat_minor": 5
}
